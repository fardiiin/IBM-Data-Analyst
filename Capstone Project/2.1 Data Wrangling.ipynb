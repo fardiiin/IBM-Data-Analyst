{
 "cells": [
  {
   "cell_type": "markdown",
   "metadata": {},
   "source": [
    "# **Data Wrangling Lab**\n"
   ]
  },
  {
   "cell_type": "markdown",
   "metadata": {},
   "source": [
    "-   Identify duplicate values in the dataset.\n",
    "\n",
    "-   Remove duplicate values from the dataset.\n",
    "\n",
    "-   Identify missing values in the dataset.\n",
    "\n",
    "-   Impute the missing values in the dataset.\n",
    "\n",
    "-   Normalize data in the dataset.\n"
   ]
  },
  {
   "cell_type": "markdown",
   "metadata": {},
   "source": [
    "<hr>\n"
   ]
  },
  {
   "cell_type": "code",
   "execution_count": 1,
   "metadata": {
    "tags": []
   },
   "outputs": [],
   "source": [
    "import pandas as pd"
   ]
  },
  {
   "cell_type": "code",
   "execution_count": 2,
   "metadata": {
    "tags": []
   },
   "outputs": [],
   "source": [
    "df = pd.read_csv(\"https://cf-courses-data.s3.us.cloud-object-storage.appdomain.cloud/IBM-DA0321EN-SkillsNetwork/LargeData/m1_survey_data.csv\")"
   ]
  },
  {
   "cell_type": "markdown",
   "metadata": {},
   "source": [
    "## Finding duplicates\n"
   ]
  },
  {
   "cell_type": "code",
   "execution_count": 3,
   "metadata": {
    "tags": []
   },
   "outputs": [
    {
     "name": "stdout",
     "output_type": "stream",
     "text": [
      "Number of duplicate rows: 154\n"
     ]
    }
   ],
   "source": [
    "print(\"Number of duplicate rows:\", df.duplicated().sum())"
   ]
  },
  {
   "cell_type": "markdown",
   "metadata": {},
   "source": [
    "## Removing duplicates\n"
   ]
  },
  {
   "cell_type": "code",
   "execution_count": 4,
   "metadata": {
    "tags": []
   },
   "outputs": [],
   "source": [
    "df.drop_duplicates(inplace=True)"
   ]
  },
  {
   "cell_type": "markdown",
   "metadata": {},
   "source": [
    "Verify if duplicates were actually dropped.\n"
   ]
  },
  {
   "cell_type": "code",
   "execution_count": 5,
   "metadata": {
    "tags": []
   },
   "outputs": [
    {
     "name": "stdout",
     "output_type": "stream",
     "text": [
      "Number of duplicate rows: 0\n"
     ]
    }
   ],
   "source": [
    "print(\"Number of duplicate rows:\", df.duplicated().sum())"
   ]
  },
  {
   "cell_type": "code",
   "execution_count": 6,
   "metadata": {
    "tags": []
   },
   "outputs": [
    {
     "data": {
      "text/plain": [
       "11398"
      ]
     },
     "execution_count": 6,
     "metadata": {},
     "output_type": "execute_result"
    }
   ],
   "source": [
    "len(df['Respondent'].unique())"
   ]
  },
  {
   "cell_type": "markdown",
   "metadata": {},
   "source": [
    "## Finding Missing values"
   ]
  },
  {
   "cell_type": "code",
   "execution_count": 7,
   "metadata": {
    "tags": []
   },
   "outputs": [
    {
     "name": "stdout",
     "output_type": "stream",
     "text": [
      "Respondent                   0\n",
      "MainBranch                   0\n",
      "Hobbyist                     0\n",
      "OpenSourcer                  0\n",
      "OpenSource                  81\n",
      "Employment                   0\n",
      "Country                      0\n",
      "Student                     51\n",
      "EdLevel                    112\n",
      "UndergradMajor             737\n",
      "EduOther                   164\n",
      "OrgSize                     96\n",
      "DevType                     65\n",
      "YearsCode                    9\n",
      "Age1stCode                  13\n",
      "YearsCodePro                16\n",
      "CareerSat                    0\n",
      "JobSat                       1\n",
      "MgrIdiot                   493\n",
      "MgrMoney                   497\n",
      "MgrWant                    493\n",
      "JobSeek                      0\n",
      "LastHireDate                 0\n",
      "LastInt                    413\n",
      "FizzBuzz                    37\n",
      "JobFactors                   3\n",
      "ResumeUpdate                39\n",
      "CurrencySymbol               0\n",
      "CurrencyDesc                 0\n",
      "CompTotal                  809\n",
      "CompFreq                   206\n",
      "ConvertedComp              816\n",
      "WorkWeekHrs                122\n",
      "WorkPlan                   121\n",
      "WorkChallenge              164\n",
      "WorkRemote                   8\n",
      "WorkLoc                     32\n",
      "ImpSyn                       5\n",
      "CodeRev                      1\n",
      "CodeRevHrs                2426\n",
      "UnitTests                   29\n",
      "PurchaseHow                196\n",
      "PurchaseWhat                38\n",
      "LanguageWorkedWith          11\n",
      "LanguageDesireNextYear     134\n",
      "DatabaseWorkedWith         453\n",
      "DatabaseDesireNextYear    1042\n",
      "PlatformWorkedWith         411\n",
      "PlatformDesireNextYear     544\n",
      "WebFrameWorkedWith        1393\n",
      "WebFrameDesireNextYear    1617\n",
      "MiscTechWorkedWith        2182\n",
      "MiscTechDesireNextYear    1455\n",
      "DevEnviron                  29\n",
      "OpSys                       34\n",
      "Containers                  82\n",
      "BlockchainOrg             2322\n",
      "BlockchainIs              2610\n",
      "BetterLife                  98\n",
      "ITperson                    35\n",
      "OffOn                       38\n",
      "SocialMedia                293\n",
      "Extraversion                20\n",
      "ScreenName                 507\n",
      "SOVisit1st                 325\n",
      "SOVisitFreq                  5\n",
      "SOVisitTo                    1\n",
      "SOFindAnswer                 3\n",
      "SOTimeSaved                 50\n",
      "SOHowMuchTime             1917\n",
      "SOAccount                    1\n",
      "SOPartFreq                1128\n",
      "SOJobs                       6\n",
      "EntTeams                     5\n",
      "SOComm                       0\n",
      "WelcomeChange               85\n",
      "SONewContent              1965\n",
      "Age                        287\n",
      "Gender                      73\n",
      "Trans                      123\n",
      "Sexuality                  542\n",
      "Ethnicity                  675\n",
      "Dependents                 140\n",
      "SurveyLength                19\n",
      "SurveyEase                  14\n",
      "dtype: int64\n"
     ]
    }
   ],
   "source": [
    "pd.set_option('display.max_rows', None)  # Set option to display all rows\n",
    "print(df.isna().sum())"
   ]
  },
  {
   "cell_type": "markdown",
   "metadata": {},
   "source": [
    "Rows that are missing in the column 'WorkLoc'\n"
   ]
  },
  {
   "cell_type": "code",
   "execution_count": 8,
   "metadata": {
    "tags": []
   },
   "outputs": [
    {
     "data": {
      "text/plain": [
       "WorkLoc    32\n",
       "dtype: int64"
      ]
     },
     "execution_count": 8,
     "metadata": {},
     "output_type": "execute_result"
    }
   ],
   "source": [
    "df[['WorkLoc']].isna().sum()"
   ]
  },
  {
   "cell_type": "markdown",
   "metadata": {},
   "source": [
    "## Imputing missing values\n"
   ]
  },
  {
   "cell_type": "code",
   "execution_count": 9,
   "metadata": {
    "tags": []
   },
   "outputs": [
    {
     "data": {
      "text/plain": [
       "WorkLoc                                       \n",
       "Office                                            6806\n",
       "Home                                              3589\n",
       "Other place, such as a coworking space or cafe     971\n",
       "dtype: int64"
      ]
     },
     "execution_count": 9,
     "metadata": {},
     "output_type": "execute_result"
    }
   ],
   "source": [
    "df[['WorkLoc']].value_counts()"
   ]
  },
  {
   "cell_type": "markdown",
   "metadata": {},
   "source": [
    "Impute (replace) all the empty rows in the column WorkLoc with the value that have been identified as majority.\n"
   ]
  },
  {
   "cell_type": "code",
   "execution_count": 10,
   "metadata": {
    "tags": []
   },
   "outputs": [],
   "source": [
    "import numpy as np"
   ]
  },
  {
   "cell_type": "code",
   "execution_count": 11,
   "metadata": {},
   "outputs": [],
   "source": [
    "df['WorkLoc'].replace(np.nan, 'Office', inplace=True)"
   ]
  },
  {
   "cell_type": "markdown",
   "metadata": {},
   "source": [
    "Verify if imputing was successful.\n"
   ]
  },
  {
   "cell_type": "code",
   "execution_count": 12,
   "metadata": {},
   "outputs": [
    {
     "data": {
      "text/plain": [
       "WorkLoc    0\n",
       "dtype: int64"
      ]
     },
     "execution_count": 12,
     "metadata": {},
     "output_type": "execute_result"
    }
   ],
   "source": [
    "df[['WorkLoc']].isna().sum()"
   ]
  },
  {
   "cell_type": "markdown",
   "metadata": {},
   "source": [
    "## Normalizing data\n"
   ]
  },
  {
   "cell_type": "markdown",
   "metadata": {},
   "source": [
    "We have two columns in the `df` about compensation. One is `CompFreq`, indicating the frequency of payment for developers (Yearly, Monthly, Weekly). The other is `CompTotal`, containing the developer's payment per Year, Month, or Week based on their `CompFreq`. This setup complicates comparing total compensation among developers. \n",
    "\n",
    "We will create a new column called `NormalizedAnnualCompensation`, which will contain the Annual Compensation regardless of the `CompFreq`. It simplifies the comparison of salaries."
   ]
  },
  {
   "cell_type": "code",
   "execution_count": 13,
   "metadata": {},
   "outputs": [
    {
     "data": {
      "text/plain": [
       "array(['Yearly', 'Monthly', 'Weekly', nan], dtype=object)"
      ]
     },
     "execution_count": 13,
     "metadata": {},
     "output_type": "execute_result"
    }
   ],
   "source": [
    "df['CompFreq'].unique()"
   ]
  },
  {
   "cell_type": "code",
   "execution_count": 14,
   "metadata": {
    "tags": []
   },
   "outputs": [
    {
     "data": {
      "text/plain": [
       "Yearly     6073\n",
       "Monthly    4788\n",
       "Weekly      331\n",
       "Name: CompFreq, dtype: int64"
      ]
     },
     "execution_count": 14,
     "metadata": {},
     "output_type": "execute_result"
    }
   ],
   "source": [
    "df['CompFreq'].value_counts()"
   ]
  },
  {
   "cell_type": "code",
   "execution_count": 15,
   "metadata": {},
   "outputs": [],
   "source": [
    "norm_data = []\n",
    "\n",
    "for i in range(len(df)):\n",
    "    \n",
    "    if df['CompFreq'].iloc[i] == 'Weekly':\n",
    "        norm_data.append(df['CompTotal'].iloc[i]*52)\n",
    "    elif df['CompFreq'].iloc[i] == 'Monthly':\n",
    "        norm_data.append(df['CompTotal'].iloc[i]*12)\n",
    "    else:\n",
    "        norm_data.append(df['CompTotal'].iloc[i]*1)\n",
    "\n",
    "df['NormalizedAnnualCompensation']= norm_data"
   ]
  },
  {
   "cell_type": "markdown",
   "metadata": {
    "tags": []
   },
   "source": [
    "Median of the Annual Compensation"
   ]
  },
  {
   "cell_type": "code",
   "execution_count": 16,
   "metadata": {
    "tags": []
   },
   "outputs": [
    {
     "data": {
      "text/plain": [
       "100000.0"
      ]
     },
     "execution_count": 16,
     "metadata": {},
     "output_type": "execute_result"
    }
   ],
   "source": [
    "df['NormalizedAnnualCompensation'].median()"
   ]
  },
  {
   "cell_type": "markdown",
   "metadata": {},
   "source": [
    "**Save the data**"
   ]
  },
  {
   "cell_type": "code",
   "execution_count": 17,
   "metadata": {
    "tags": []
   },
   "outputs": [],
   "source": [
    "df.reset_index()\n",
    "df.to_csv('2.1 Survey data after wrangling.csv', index=False)"
   ]
  }
 ],
 "metadata": {
  "kernelspec": {
   "display_name": "Python",
   "language": "python",
   "name": "conda-env-python-py"
  },
  "language_info": {
   "codemirror_mode": {
    "name": "ipython",
    "version": 3
   },
   "file_extension": ".py",
   "mimetype": "text/x-python",
   "name": "python",
   "nbconvert_exporter": "python",
   "pygments_lexer": "ipython3",
   "version": "3.7.12"
  }
 },
 "nbformat": 4,
 "nbformat_minor": 4
}
