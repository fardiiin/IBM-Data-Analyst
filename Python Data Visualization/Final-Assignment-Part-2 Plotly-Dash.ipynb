{
 "cells": [
  {
   "cell_type": "code",
   "execution_count": 1,
   "id": "4ef82dc0-91c9-4472-ace0-355d375d9ad8",
   "metadata": {},
   "outputs": [],
   "source": [
    "#!pip install dash plotly"
   ]
  },
  {
   "cell_type": "code",
   "execution_count": 2,
   "id": "a7a6a1f3-e6f6-45db-874e-88b11265c743",
   "metadata": {},
   "outputs": [
    {
     "data": {
      "text/html": [
       "\n",
       "        <iframe\n",
       "            width=\"100%\"\n",
       "            height=\"650\"\n",
       "            src=\"http://127.0.0.1:8050/\"\n",
       "            frameborder=\"0\"\n",
       "            allowfullscreen\n",
       "            \n",
       "        ></iframe>\n",
       "        "
      ],
      "text/plain": [
       "<IPython.lib.display.IFrame at 0x16e42e46380>"
      ]
     },
     "metadata": {},
     "output_type": "display_data"
    }
   ],
   "source": [
    "# Importing necessary libraries\n",
    "import pandas as pd\n",
    "import dash\n",
    "from dash import dcc, html\n",
    "from dash.dependencies import Input, Output\n",
    "import plotly.express as px\n",
    "\n",
    "# Reading the airline data from CSV\n",
    "airline_data = pd.read_csv('https://cf-courses-data.s3.us.cloud-object-storage.appdomain.cloud/IBMDeveloperSkillsNetwork-DV0101EN-SkillsNetwork/Data%20Files/airline_data.csv', \n",
    "                           encoding=\"ISO-8859-1\",\n",
    "                           dtype={'Div1Airport': str, 'Div1TailNum': str, 'Div2Airport': str, 'Div2TailNum': str})\n",
    "\n",
    "# Creating a Dash application instance\n",
    "app = dash.Dash(__name__)\n",
    "\n",
    "# Defining the layout of the application\n",
    "app.layout = html.Div(children=[\n",
    "    html.H1('Flight Delay Time Statistics', style={'textAlign': 'center', 'color': '#503D36', 'font-size': 30}),\n",
    "    html.Div([\"Input Year: \", dcc.Input(id='input-year', value='2010', type='number', style={'height':'35px', 'font-size': 30}),],\n",
    "             style={'font-size': 30}),\n",
    "    html.Br(),\n",
    "    html.Br(),\n",
    "    # Graphs for different delay types\n",
    "    html.Div([\n",
    "        html.Div(dcc.Graph(id='carrier-plot')),\n",
    "        html.Div(dcc.Graph(id='weather-plot'))\n",
    "    ], style={'display': 'flex'}),\n",
    "    html.Div([\n",
    "        html.Div(dcc.Graph(id='nas-plot')),\n",
    "        html.Div(dcc.Graph(id='security-plot'))\n",
    "    ], style={'display': 'flex'}),\n",
    "    html.Div(dcc.Graph(id='late-plot'), style={'width':'65%'})\n",
    "])\n",
    "\n",
    "# Function to compute delay statistics\n",
    "def compute_info(airline_data, entered_year):\n",
    "    df = airline_data[airline_data['Year'] == int(entered_year)]\n",
    "    avg_car = df.groupby(['Month','Reporting_Airline'])['CarrierDelay'].mean().reset_index()\n",
    "    avg_weather = df.groupby(['Month','Reporting_Airline'])['WeatherDelay'].mean().reset_index()\n",
    "    avg_NAS = df.groupby(['Month','Reporting_Airline'])['NASDelay'].mean().reset_index()\n",
    "    avg_sec = df.groupby(['Month','Reporting_Airline'])['SecurityDelay'].mean().reset_index()\n",
    "    avg_late = df.groupby(['Month','Reporting_Airline'])['LateAircraftDelay'].mean().reset_index()\n",
    "    return avg_car, avg_weather, avg_NAS, avg_sec, avg_late\n",
    "\n",
    "# Callback function to update graphs based on input year\n",
    "@app.callback([\n",
    "    Output(component_id='carrier-plot', component_property='figure'),\n",
    "    Output(component_id='weather-plot', component_property='figure'),\n",
    "    Output(component_id='nas-plot', component_property='figure'),\n",
    "    Output(component_id='security-plot', component_property='figure'),\n",
    "    Output(component_id='late-plot', component_property='figure')\n",
    "], [Input(component_id='input-year', component_property='value')])\n",
    "def get_graph(entered_year):\n",
    "    avg_car, avg_weather, avg_NAS, avg_sec, avg_late = compute_info(airline_data, entered_year)\n",
    "    carrier_fig = px.line(avg_car, x='Month', y='CarrierDelay', color='Reporting_Airline', title='Average carrier delay time (minutes) by airline')\n",
    "    weather_fig = px.line(avg_weather, x='Month', y='WeatherDelay', color='Reporting_Airline', title='Average weather delay time (minutes) by airline')\n",
    "    nas_fig = px.line(avg_NAS, x='Month', y='NASDelay', color='Reporting_Airline', title='Average NAS delay time (minutes) by airline')\n",
    "    sec_fig = px.line(avg_sec, x='Month', y='SecurityDelay', color='Reporting_Airline', title='Average security delay time (minutes) by airline')\n",
    "    late_fig = px.line(avg_late, x='Month', y='LateAircraftDelay', color='Reporting_Airline', title='Average late aircraft delay time (minutes) by airline')\n",
    "    return [carrier_fig, weather_fig, nas_fig, sec_fig, late_fig]\n",
    "\n",
    "# Running the Dash app\n",
    "if __name__ == '__main__':\n",
    "    app.run_server()"
   ]
  },
  {
   "cell_type": "code",
   "execution_count": null,
   "id": "ae697fd1-81d2-44c5-aa91-7190245abc10",
   "metadata": {},
   "outputs": [],
   "source": []
  }
 ],
 "metadata": {
  "kernelspec": {
   "display_name": "Python 3 (ipykernel)",
   "language": "python",
   "name": "python3"
  },
  "language_info": {
   "codemirror_mode": {
    "name": "ipython",
    "version": 3
   },
   "file_extension": ".py",
   "mimetype": "text/x-python",
   "name": "python",
   "nbconvert_exporter": "python",
   "pygments_lexer": "ipython3",
   "version": "3.10.13"
  }
 },
 "nbformat": 4,
 "nbformat_minor": 5
}
